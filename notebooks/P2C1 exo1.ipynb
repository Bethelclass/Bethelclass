{
  "cells": [
    {
      "cell_type": "markdown",
      "metadata": {
        "id": "OVl_VK1sh019"
      },
      "source": [
        "![openclassrooms](https://s3.eu-west-1.amazonaws.com/course.oc-static.com/courses/6204541/1+HnqdJ-5ofxiPP9HIxdNdpw.jpeg)\n",
        "\n",
        "# Initiez-vous à Python pour l'analyse de données\n",
        "\n",
        "## Déclarez une variable\n",
        "\n",
        "Exécutez la case suivante qui déclare les variables :\n",
        "- `compteEpargne` correspondant au montant sur le compte épargne\n",
        "- `taux` le taux d'intérêt pour l'année considérée"
      ]
    },
    {
      "cell_type": "code",
      "execution_count": null,
      "metadata": {
        "id": "dshWcBnJh02A"
      },
      "outputs": [],
      "source": [
        "compteEpargne = 10000\n",
        "taux = 0.75"
      ]
    },
    {
      "cell_type": "markdown",
      "metadata": {
        "id": "wULXDXwCh02C"
      },
      "source": [
        "Créez une variable `interets`, qui correspond au montant sur le compte épargne multiplié par le taux d'intérêt (qui lui même doit être divisé par 100, car les taux sont exprimés en pourcentage) :"
      ]
    },
    {
      "cell_type": "code",
      "execution_count": null,
      "metadata": {
        "id": "8d8CvlhEh02C"
      },
      "outputs": [],
      "source": [
        "interets = 10000 *(0.75/100)"
      ]
    },
    {
      "cell_type": "markdown",
      "metadata": {
        "id": "gOTkOyhCh02D"
      },
      "source": [
        "A présent exécutez la case suivante :"
      ]
    },
    {
      "cell_type": "code",
      "execution_count": 8,
      "metadata": {
        "id": "mTy3IMceh02E",
        "outputId": "4ccd50ee-531f-43eb-950e-60bb12b5e1f4",
        "colab": {
          "base_uri": "https://localhost:8080/"
        }
      },
      "outputs": [
        {
          "output_type": "stream",
          "name": "stdout",
          "text": [
            "Le solde de votre compte était de 10000 €\n",
            "Il vous a rapporté 75.0 € cette année\n"
          ]
        }
      ],
      "source": [
        "print(\"Le solde de votre compte était de\", compteEpargne, \"€\\nIl vous a rapporté\", interets, \"€ cette année\")"
      ]
    }
  ],
  "metadata": {
    "kernelspec": {
      "display_name": "Python 3",
      "language": "python",
      "name": "python3"
    },
    "language_info": {
      "codemirror_mode": {
        "name": "ipython",
        "version": 3
      },
      "file_extension": ".py",
      "mimetype": "text/x-python",
      "name": "python",
      "nbconvert_exporter": "python",
      "pygments_lexer": "ipython3",
      "version": "3.8.5"
    },
    "colab": {
      "provenance": []
    }
  },
  "nbformat": 4,
  "nbformat_minor": 0
}