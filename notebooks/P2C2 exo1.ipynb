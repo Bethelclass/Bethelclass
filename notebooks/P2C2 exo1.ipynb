{
  "cells": [
    {
      "cell_type": "markdown",
      "metadata": {
        "id": "hoeihFQnKEQZ"
      },
      "source": [
        "![openclassrooms](https://s3.eu-west-1.amazonaws.com/course.oc-static.com/courses/6204541/1+HnqdJ-5ofxiPP9HIxdNdpw.jpeg)\n",
        "\n",
        "# Initiez-vous à Python pour l'analyse de données\n",
        "\n",
        "## Manipulez les types de variables\n",
        "\n",
        "Reprenons la problématique du taux d'intérêt du chapitre précédent :"
      ]
    },
    {
      "cell_type": "code",
      "execution_count": 6,
      "metadata": {
        "id": "95TpdvXtKEQe",
        "outputId": "b3c09566-0330-43b8-fc07-c03b31874350",
        "colab": {
          "base_uri": "https://localhost:8080/"
        }
      },
      "outputs": [
        {
          "output_type": "stream",
          "name": "stdout",
          "text": [
            "75.0\n"
          ]
        }
      ],
      "source": [
        "compteEpargne = 10000\n",
        "taux = 0.75\n",
        "\n",
        "interets = compteEpargne * (taux/100)\n",
        "\n",
        "\n",
        "print(interets)"
      ]
    },
    {
      "cell_type": "markdown",
      "metadata": {
        "id": "xLKT147yKEQh"
      },
      "source": [
        "Si vous observez bien, la variable `interets` est actuellement de type `float`. Ecrivez ci dessous une ligne permettant de la transformer en entier :"
      ]
    },
    {
      "cell_type": "code",
      "execution_count": 10,
      "metadata": {
        "id": "_BH2Cr8LKEQh",
        "outputId": "d7ca50ff-069e-4f49-891f-2ff6a4650cf9",
        "colab": {
          "base_uri": "https://localhost:8080/"
        }
      },
      "outputs": [
        {
          "output_type": "stream",
          "name": "stdout",
          "text": [
            "75\n"
          ]
        }
      ],
      "source": [
        "a=interets\n",
        "a=int(a)\n",
        "print(a)"
      ]
    }
  ],
  "metadata": {
    "kernelspec": {
      "display_name": "Python 3",
      "language": "python",
      "name": "python3"
    },
    "language_info": {
      "codemirror_mode": {
        "name": "ipython",
        "version": 3
      },
      "file_extension": ".py",
      "mimetype": "text/x-python",
      "name": "python",
      "nbconvert_exporter": "python",
      "pygments_lexer": "ipython3",
      "version": "3.8.5"
    },
    "colab": {
      "provenance": []
    }
  },
  "nbformat": 4,
  "nbformat_minor": 0
}