{
  "cells": [
    {
      "cell_type": "markdown",
      "metadata": {
        "id": "K_KN45R4VU7h"
      },
      "source": [
        "![openclassrooms](https://s3.eu-west-1.amazonaws.com/course.oc-static.com/courses/6204541/1+HnqdJ-5ofxiPP9HIxdNdpw.jpeg)\n",
        "\n",
        "# Initiez-vous à Python pour l'analyse de données\n",
        "\n",
        "## Programmez en orienté objet\n",
        "\n",
        "<br><br>\n",
        "\n",
        "**Les méthodes de chaines de caractères**\n",
        "\n",
        "Soit la variable `maPhrase` suivante :"
      ]
    },
    {
      "cell_type": "code",
      "execution_count": null,
      "metadata": {
        "id": "_TZfQlGIVU7m"
      },
      "outputs": [],
      "source": [
        "maPhrase = 'JE SUIS ENERVE !!'"
      ]
    },
    {
      "cell_type": "markdown",
      "metadata": {
        "id": "8zqSdxmVVU7o"
      },
      "source": [
        "Utilisez une méthode de chaines de caractères pour transformer la variable `maPhrase`  en minuscule :"
      ]
    },
    {
      "cell_type": "code",
      "execution_count": 8,
      "metadata": {
        "id": "sJyw8SPqVU7p",
        "outputId": "34aadcbe-9f5c-4fb3-adb7-1daa8f604cbc",
        "colab": {
          "base_uri": "https://localhost:8080/"
        }
      },
      "outputs": [
        {
          "output_type": "stream",
          "name": "stdout",
          "text": [
            "je suis enerve !!\n"
          ]
        }
      ],
      "source": [
        "\n",
        "print(maPhrase.lower())"
      ]
    },
    {
      "cell_type": "markdown",
      "metadata": {
        "id": "9zzlZfyWVU7q"
      },
      "source": [
        "Remplacez les **...** par une ligne permettant, à partir de la variable maPhrase d'afficher : `je suis calme !!`"
      ]
    },
    {
      "cell_type": "code",
      "execution_count": 10,
      "metadata": {
        "id": "4WPWDcruVU7q",
        "outputId": "f1e01cfe-b896-467e-f6e9-e4fb65667770",
        "colab": {
          "base_uri": "https://localhost:8080/"
        }
      },
      "outputs": [
        {
          "output_type": "stream",
          "name": "stdout",
          "text": [
            "je suis calme\n"
          ]
        }
      ],
      "source": [
        "print(maPhrase.replace('JE SUIS ENERVE !!', 'je suis calme'))"
      ]
    }
  ],
  "metadata": {
    "kernelspec": {
      "display_name": "Python 3",
      "language": "python",
      "name": "python3"
    },
    "language_info": {
      "codemirror_mode": {
        "name": "ipython",
        "version": 3
      },
      "file_extension": ".py",
      "mimetype": "text/x-python",
      "name": "python",
      "nbconvert_exporter": "python",
      "pygments_lexer": "ipython3",
      "version": "3.8.5"
    },
    "colab": {
      "provenance": []
    }
  },
  "nbformat": 4,
  "nbformat_minor": 0
}